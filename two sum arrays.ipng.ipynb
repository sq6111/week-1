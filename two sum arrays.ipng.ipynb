{
 "cells": [
  {
   "cell_type": "code",
   "execution_count": null,
   "metadata": {},
   "outputs": [],
   "source": [
    "class Solution:\n",
    "    def twoSum(self, numbers: List[int], target: int) -> List[int]:\n",
    "        left , right = 0 , len(numbers)-1\n",
    "        while left < right :\n",
    "            s = numbers[left] + numbers[right]\n",
    "            if s > target:\n",
    "                right -= 1\n",
    "            elif s < target:\n",
    "                left += 1\n",
    "            else:\n",
    "                return[left+1,right+1]"
   ]
  }
 ],
 "metadata": {
  "language_info": {
   "name": "python"
  }
 },
 "nbformat": 4,
 "nbformat_minor": 2
}
