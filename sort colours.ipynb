{
 "cells": [
  {
   "cell_type": "code",
   "execution_count": null,
   "metadata": {},
   "outputs": [],
   "source": [
    "class Solution:\n",
    "    def sortColors(self, nums):\n",
    "        l, r = 0, len(nums) - 1 \n",
    "        i = 0  \n",
    "        def swap(i, j):\n",
    "            nums[i], nums[j] = nums[j], nums[i]  \n",
    "\n",
    "        while i <= r:  \n",
    "            if nums[i] == 0:\n",
    "                swap(l, i)\n",
    "                l += 1\n",
    "                i += 1  \n",
    "            elif nums[i] == 2:\n",
    "                swap(i, r)\n",
    "                r -= 1  \n",
    "                \n",
    "            else:\n",
    "                i += 1  \n"
   ]
  }
 ],
 "metadata": {
  "language_info": {
   "name": "python"
  }
 },
 "nbformat": 4,
 "nbformat_minor": 2
}
